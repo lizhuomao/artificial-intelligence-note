{
 "cells": [
  {
   "cell_type": "markdown",
   "id": "4c160d3d",
   "metadata": {},
   "source": [
    "# 1 深度卷积神经网络\n",
    "## 1.1 AlexNet"
   ]
  },
  {
   "cell_type": "code",
   "execution_count": null,
   "id": "1a536546",
   "metadata": {},
   "outputs": [],
   "source": [
    "import torch\n",
    "from"
   ]
  }
 ],
 "metadata": {
  "kernelspec": {
   "display_name": "Python 3 (ipykernel)",
   "language": "python",
   "name": "python3"
  },
  "language_info": {
   "codemirror_mode": {
    "name": "ipython",
    "version": 3
   },
   "file_extension": ".py",
   "mimetype": "text/x-python",
   "name": "python",
   "nbconvert_exporter": "python",
   "pygments_lexer": "ipython3",
   "version": "3.9.7"
  }
 },
 "nbformat": 4,
 "nbformat_minor": 5
}
